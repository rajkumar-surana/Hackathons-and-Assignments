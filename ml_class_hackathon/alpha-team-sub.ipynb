{
 "cells": [
  {
   "cell_type": "code",
   "execution_count": 1,
   "metadata": {
    "_cell_guid": "b1076dfc-b9ad-4769-8c92-a6c4dae69d19",
    "_uuid": "8f2839f25d086af736a60e9eeb907d3b93b6e0e5",
    "execution": {
     "iopub.execute_input": "2020-12-21T11:32:22.924686Z",
     "iopub.status.busy": "2020-12-21T11:32:22.923935Z",
     "iopub.status.idle": "2020-12-21T11:32:22.929379Z",
     "shell.execute_reply": "2020-12-21T11:32:22.929919Z"
    },
    "papermill": {
     "duration": 0.033337,
     "end_time": "2020-12-21T11:32:22.930098",
     "exception": false,
     "start_time": "2020-12-21T11:32:22.896761",
     "status": "completed"
    },
    "tags": []
   },
   "outputs": [
    {
     "name": "stdout",
     "output_type": "stream",
     "text": [
      "/kaggle/input/iith-foml-2020/iith_foml_2020_test.csv\n",
      "/kaggle/input/iith-foml-2020/iith_foml_2020_sample.csv\n",
      "/kaggle/input/iith-foml-2020/iith_foml_2020_train.csv\n"
     ]
    }
   ],
   "source": [
    "# This Python 3 environment comes with many helpful analytics libraries installed\n",
    "# It is defined by the kaggle/python Docker image: https://github.com/kaggle/docker-python\n",
    "# For example, here's several helpful packages to load\n",
    "\n",
    "import numpy as np # linear algebra\n",
    "import pandas as pd # data processing, CSV file I/O (e.g. pd.read_csv)\n",
    "\n",
    "# Input data files are available in the read-only \"../input/\" directory\n",
    "# For example, running this (by clicking run or pressing Shift+Enter) will list all files under the input directory\n",
    "\n",
    "import os\n",
    "for dirname, _, filenames in os.walk('/kaggle/input'):\n",
    "    for filename in filenames:\n",
    "        print(os.path.join(dirname, filename))\n",
    "\n",
    "# You can write up to 20GB to the current directory (/kaggle/working/) that gets preserved as output when you create a version using \"Save & Run All\" \n",
    "# You can also write temporary files to /kaggle/temp/, but they won't be saved outside of the current session"
   ]
  },
  {
   "cell_type": "code",
   "execution_count": 2,
   "metadata": {
    "execution": {
     "iopub.execute_input": "2020-12-21T11:32:22.975125Z",
     "iopub.status.busy": "2020-12-21T11:32:22.974277Z",
     "iopub.status.idle": "2020-12-21T11:32:22.978198Z",
     "shell.execute_reply": "2020-12-21T11:32:22.978797Z"
    },
    "papermill": {
     "duration": 0.027643,
     "end_time": "2020-12-21T11:32:22.978947",
     "exception": false,
     "start_time": "2020-12-21T11:32:22.951304",
     "status": "completed"
    },
    "tags": []
   },
   "outputs": [],
   "source": [
    "import matplotlib.pyplot as plt"
   ]
  },
  {
   "cell_type": "code",
   "execution_count": 3,
   "metadata": {
    "execution": {
     "iopub.execute_input": "2020-12-21T11:32:23.024355Z",
     "iopub.status.busy": "2020-12-21T11:32:23.023690Z",
     "iopub.status.idle": "2020-12-21T11:32:23.093822Z",
     "shell.execute_reply": "2020-12-21T11:32:23.093110Z"
    },
    "papermill": {
     "duration": 0.093474,
     "end_time": "2020-12-21T11:32:23.093975",
     "exception": false,
     "start_time": "2020-12-21T11:32:23.000501",
     "status": "completed"
    },
    "tags": []
   },
   "outputs": [],
   "source": [
    "train=pd.read_csv(\"/kaggle/input/iith-foml-2020/iith_foml_2020_train.csv\")\n",
    "test=pd.read_csv(\"/kaggle/input/iith-foml-2020/iith_foml_2020_test.csv\")\n",
    "train.iloc[:,8:18]=train.iloc[:,8:18].fillna(train.iloc[:,8:18].mean())\n",
    "test.iloc[:,8:18]=test.iloc[:,8:18].fillna(test.iloc[:,8:18].mean())\n",
    "train.iloc[:,23]=train.iloc[:,23].fillna(train.iloc[:,23].mean())\n",
    "y=train.iloc[:,24]\n",
    "x=train.drop(['Target Variable (Discrete)','Feature 23 (Discrete)','Feature 14'],axis=1)\n",
    "oxtest=test.drop(['Feature 23 (Discrete)','Feature 14'],axis=1)"
   ]
  },
  {
   "cell_type": "code",
   "execution_count": null,
   "metadata": {
    "papermill": {
     "duration": 0.020991,
     "end_time": "2020-12-21T11:32:23.136069",
     "exception": false,
     "start_time": "2020-12-21T11:32:23.115078",
     "status": "completed"
    },
    "tags": []
   },
   "outputs": [],
   "source": []
  },
  {
   "cell_type": "code",
   "execution_count": 4,
   "metadata": {
    "execution": {
     "iopub.execute_input": "2020-12-21T11:32:23.184110Z",
     "iopub.status.busy": "2020-12-21T11:32:23.183418Z",
     "iopub.status.idle": "2020-12-21T11:32:24.423819Z",
     "shell.execute_reply": "2020-12-21T11:32:24.423051Z"
    },
    "papermill": {
     "duration": 1.266159,
     "end_time": "2020-12-21T11:32:24.423949",
     "exception": false,
     "start_time": "2020-12-21T11:32:23.157790",
     "status": "completed"
    },
    "tags": []
   },
   "outputs": [],
   "source": [
    "from sklearn.tree import DecisionTreeClassifier"
   ]
  },
  {
   "cell_type": "markdown",
   "metadata": {
    "papermill": {
     "duration": 0.020416,
     "end_time": "2020-12-21T11:32:24.465453",
     "exception": false,
     "start_time": "2020-12-21T11:32:24.445037",
     "status": "completed"
    },
    "tags": []
   },
   "source": [
    "from sklearn.tree import DecisionTreeClassifier, export_graphviz\n",
    "from sklearn.model_selection import GridSearchCV\n",
    "#from sklearn.cross_validation import  cross_val_score\n",
    "\n",
    "tree_para = {'criterion':['gini','entropy'],'max_depth':[4,5,6,7,8,9,10,11,12]}\n",
    "clf = GridSearchCV(DecisionTreeClassifier(), tree_para, cv=5)\n",
    "clf.fit(x,y)"
   ]
  },
  {
   "cell_type": "code",
   "execution_count": 5,
   "metadata": {
    "execution": {
     "iopub.execute_input": "2020-12-21T11:32:24.512800Z",
     "iopub.status.busy": "2020-12-21T11:32:24.511994Z",
     "iopub.status.idle": "2020-12-21T11:32:24.590882Z",
     "shell.execute_reply": "2020-12-21T11:32:24.590294Z"
    },
    "papermill": {
     "duration": 0.104575,
     "end_time": "2020-12-21T11:32:24.590998",
     "exception": false,
     "start_time": "2020-12-21T11:32:24.486423",
     "status": "completed"
    },
    "tags": []
   },
   "outputs": [
    {
     "ename": "NameError",
     "evalue": "name 'clf' is not defined",
     "output_type": "error",
     "traceback": [
      "\u001b[0;31m---------------------------------------------------------------------------\u001b[0m",
      "\u001b[0;31mNameError\u001b[0m                                 Traceback (most recent call last)",
      "\u001b[0;32m<ipython-input-5-9772bec5683a>\u001b[0m in \u001b[0;36m<module>\u001b[0;34m\u001b[0m\n\u001b[0;32m----> 1\u001b[0;31m \u001b[0mclf\u001b[0m\u001b[0;34m.\u001b[0m\u001b[0mbest_params_\u001b[0m\u001b[0;34m\u001b[0m\u001b[0;34m\u001b[0m\u001b[0m\n\u001b[0m",
      "\u001b[0;31mNameError\u001b[0m: name 'clf' is not defined"
     ]
    }
   ],
   "source": [
    "clf.best_params_"
   ]
  },
  {
   "cell_type": "code",
   "execution_count": 6,
   "metadata": {
    "execution": {
     "iopub.execute_input": "2020-12-21T11:32:24.645332Z",
     "iopub.status.busy": "2020-12-21T11:32:24.644322Z",
     "iopub.status.idle": "2020-12-21T11:32:24.647888Z",
     "shell.execute_reply": "2020-12-21T11:32:24.647251Z"
    },
    "papermill": {
     "duration": 0.035676,
     "end_time": "2020-12-21T11:32:24.648003",
     "exception": false,
     "start_time": "2020-12-21T11:32:24.612327",
     "status": "completed"
    },
    "tags": []
   },
   "outputs": [],
   "source": [
    "from sklearn.model_selection import train_test_split\n",
    "x_train, x_test, y_train, y_test = train_test_split(x,y,test_size = 0.2,random_state=1)"
   ]
  },
  {
   "cell_type": "code",
   "execution_count": 7,
   "metadata": {
    "execution": {
     "iopub.execute_input": "2020-12-21T11:32:24.698277Z",
     "iopub.status.busy": "2020-12-21T11:32:24.697389Z",
     "iopub.status.idle": "2020-12-21T11:32:24.700869Z",
     "shell.execute_reply": "2020-12-21T11:32:24.700168Z"
    },
    "papermill": {
     "duration": 0.030787,
     "end_time": "2020-12-21T11:32:24.700988",
     "exception": false,
     "start_time": "2020-12-21T11:32:24.670201",
     "status": "completed"
    },
    "tags": []
   },
   "outputs": [],
   "source": [
    "dt=DecisionTreeClassifier(criterion='entropy', max_depth= 7,random_state=1)"
   ]
  },
  {
   "cell_type": "code",
   "execution_count": 8,
   "metadata": {
    "execution": {
     "iopub.execute_input": "2020-12-21T11:32:24.754763Z",
     "iopub.status.busy": "2020-12-21T11:32:24.753996Z",
     "iopub.status.idle": "2020-12-21T11:32:24.785356Z",
     "shell.execute_reply": "2020-12-21T11:32:24.785966Z"
    },
    "papermill": {
     "duration": 0.063499,
     "end_time": "2020-12-21T11:32:24.786126",
     "exception": false,
     "start_time": "2020-12-21T11:32:24.722627",
     "status": "completed"
    },
    "tags": []
   },
   "outputs": [
    {
     "data": {
      "text/plain": [
       "DecisionTreeClassifier(criterion='entropy', max_depth=7, random_state=1)"
      ]
     },
     "execution_count": 8,
     "metadata": {},
     "output_type": "execute_result"
    }
   ],
   "source": [
    "dt.fit(x_train,y_train)"
   ]
  },
  {
   "cell_type": "code",
   "execution_count": 9,
   "metadata": {
    "execution": {
     "iopub.execute_input": "2020-12-21T11:32:24.840159Z",
     "iopub.status.busy": "2020-12-21T11:32:24.839082Z",
     "iopub.status.idle": "2020-12-21T11:32:24.844007Z",
     "shell.execute_reply": "2020-12-21T11:32:24.843428Z"
    },
    "papermill": {
     "duration": 0.035911,
     "end_time": "2020-12-21T11:32:24.844123",
     "exception": false,
     "start_time": "2020-12-21T11:32:24.808212",
     "status": "completed"
    },
    "tags": []
   },
   "outputs": [
    {
     "data": {
      "text/plain": [
       "0.8844221105527639"
      ]
     },
     "execution_count": 9,
     "metadata": {},
     "output_type": "execute_result"
    }
   ],
   "source": [
    "dt.score(x_test,y_test)"
   ]
  },
  {
   "cell_type": "code",
   "execution_count": 10,
   "metadata": {
    "execution": {
     "iopub.execute_input": "2020-12-21T11:32:24.897152Z",
     "iopub.status.busy": "2020-12-21T11:32:24.896354Z",
     "iopub.status.idle": "2020-12-21T11:32:24.899315Z",
     "shell.execute_reply": "2020-12-21T11:32:24.899949Z"
    },
    "papermill": {
     "duration": 0.033707,
     "end_time": "2020-12-21T11:32:24.900092",
     "exception": false,
     "start_time": "2020-12-21T11:32:24.866385",
     "status": "completed"
    },
    "tags": []
   },
   "outputs": [],
   "source": [
    "y1=dt.predict(oxtest)"
   ]
  },
  {
   "cell_type": "code",
   "execution_count": 11,
   "metadata": {
    "execution": {
     "iopub.execute_input": "2020-12-21T11:32:24.949127Z",
     "iopub.status.busy": "2020-12-21T11:32:24.948045Z",
     "iopub.status.idle": "2020-12-21T11:32:24.983849Z",
     "shell.execute_reply": "2020-12-21T11:32:24.984362Z"
    },
    "papermill": {
     "duration": 0.062149,
     "end_time": "2020-12-21T11:32:24.984530",
     "exception": false,
     "start_time": "2020-12-21T11:32:24.922381",
     "status": "completed"
    },
    "tags": []
   },
   "outputs": [],
   "source": [
    "from sklearn.ensemble import RandomForestClassifier "
   ]
  },
  {
   "cell_type": "code",
   "execution_count": 12,
   "metadata": {
    "execution": {
     "iopub.execute_input": "2020-12-21T11:32:25.039617Z",
     "iopub.status.busy": "2020-12-21T11:32:25.038869Z",
     "iopub.status.idle": "2020-12-21T11:32:26.261817Z",
     "shell.execute_reply": "2020-12-21T11:32:26.261243Z"
    },
    "papermill": {
     "duration": 1.25477,
     "end_time": "2020-12-21T11:32:26.261939",
     "exception": false,
     "start_time": "2020-12-21T11:32:25.007169",
     "status": "completed"
    },
    "tags": []
   },
   "outputs": [
    {
     "data": {
      "text/plain": [
       "[<matplotlib.lines.Line2D at 0x7fc3d7f39710>]"
      ]
     },
     "execution_count": 12,
     "metadata": {},
     "output_type": "execute_result"
    },
    {
     "data": {
      "image/png": "[encoded data removed]",
      "text/plain": [
       "<Figure size 432x288 with 1 Axes>"
      ]
     },
     "metadata": {
      "needs_background": "light"
     },
     "output_type": "display_data"
    }
   ],
   "source": [
    "score_list = []\n",
    "for i in range(10,26):\n",
    "    rftest = RandomForestClassifier(n_estimators=i,criterion=\"gini\",random_state=42)\n",
    "    rftest.fit(x_train,y_train)\n",
    "\n",
    "    score_list.append(rftest.score(x_test,y_test))\n",
    "    \n",
    "plt.plot(range(10,26),score_list)"
   ]
  },
  {
   "cell_type": "code",
   "execution_count": 13,
   "metadata": {
    "execution": {
     "iopub.execute_input": "2020-12-21T11:32:26.318419Z",
     "iopub.status.busy": "2020-12-21T11:32:26.317652Z",
     "iopub.status.idle": "2020-12-21T11:32:26.385012Z",
     "shell.execute_reply": "2020-12-21T11:32:26.385600Z"
    },
    "papermill": {
     "duration": 0.099644,
     "end_time": "2020-12-21T11:32:26.385773",
     "exception": false,
     "start_time": "2020-12-21T11:32:26.286129",
     "status": "completed"
    },
    "tags": []
   },
   "outputs": [],
   "source": [
    "rf = RandomForestClassifier(n_estimators=17,criterion=\"gini\",random_state=42)\n",
    "rf.fit(x_train,y_train)\n",
    "rf.score(x_test,y_test)\n",
    "y2=rf.predict(oxtest)"
   ]
  },
  {
   "cell_type": "code",
   "execution_count": 14,
   "metadata": {
    "execution": {
     "iopub.execute_input": "2020-12-21T11:32:26.437179Z",
     "iopub.status.busy": "2020-12-21T11:32:26.436529Z",
     "iopub.status.idle": "2020-12-21T11:32:26.519792Z",
     "shell.execute_reply": "2020-12-21T11:32:26.520292Z"
    },
    "papermill": {
     "duration": 0.110461,
     "end_time": "2020-12-21T11:32:26.520452",
     "exception": false,
     "start_time": "2020-12-21T11:32:26.409991",
     "status": "completed"
    },
    "tags": []
   },
   "outputs": [],
   "source": [
    "rf2 = RandomForestClassifier(n_estimators=17,criterion=\"gini\",random_state=42)\n",
    "rf2.fit(x,y)\n",
    "rf2.score(x,y)\n",
    "y3=rf2.predict(oxtest)"
   ]
  },
  {
   "cell_type": "code",
   "execution_count": 15,
   "metadata": {
    "execution": {
     "iopub.execute_input": "2020-12-21T11:32:26.589799Z",
     "iopub.status.busy": "2020-12-21T11:32:26.588949Z",
     "iopub.status.idle": "2020-12-21T11:32:26.662906Z",
     "shell.execute_reply": "2020-12-21T11:32:26.663467Z"
    },
    "papermill": {
     "duration": 0.113151,
     "end_time": "2020-12-21T11:32:26.664015",
     "exception": false,
     "start_time": "2020-12-21T11:32:26.550864",
     "status": "completed"
    },
    "tags": []
   },
   "outputs": [],
   "source": [
    "x=(x-np.mean(x))/np.std(x)\n",
    "oxtest=(oxtest-np.mean(oxtest))/np.std(oxtest)"
   ]
  },
  {
   "cell_type": "code",
   "execution_count": 16,
   "metadata": {
    "execution": {
     "iopub.execute_input": "2020-12-21T11:32:26.732700Z",
     "iopub.status.busy": "2020-12-21T11:32:26.731967Z",
     "iopub.status.idle": "2020-12-21T11:32:26.763312Z",
     "shell.execute_reply": "2020-12-21T11:32:26.762611Z"
    },
    "papermill": {
     "duration": 0.067596,
     "end_time": "2020-12-21T11:32:26.763435",
     "exception": false,
     "start_time": "2020-12-21T11:32:26.695839",
     "status": "completed"
    },
    "tags": []
   },
   "outputs": [],
   "source": [
    "Q1 = x.quantile(0.25)\n",
    "Q3 = x.quantile(0.75)\n",
    "IQR = Q3 - Q1\n",
    "xs=x[(x > (Q1 - 1.5 * IQR)) |(x < (Q3 + 1.5 * IQR))]\n",
    "xs=x.fillna(xs.median())"
   ]
  },
  {
   "cell_type": "code",
   "execution_count": 17,
   "metadata": {
    "execution": {
     "iopub.execute_input": "2020-12-21T11:32:26.821821Z",
     "iopub.status.busy": "2020-12-21T11:32:26.820706Z",
     "iopub.status.idle": "2020-12-21T11:32:26.823998Z",
     "shell.execute_reply": "2020-12-21T11:32:26.824499Z"
    },
    "papermill": {
     "duration": 0.03657,
     "end_time": "2020-12-21T11:32:26.824654",
     "exception": false,
     "start_time": "2020-12-21T11:32:26.788084",
     "status": "completed"
    },
    "tags": []
   },
   "outputs": [],
   "source": [
    "from sklearn.model_selection import train_test_split\n",
    "x_trains, x_tests, y_train, y_test = train_test_split(xs,y,test_size = 0.2,random_state=1)"
   ]
  },
  {
   "cell_type": "code",
   "execution_count": 18,
   "metadata": {
    "execution": {
     "iopub.execute_input": "2020-12-21T11:32:26.880133Z",
     "iopub.status.busy": "2020-12-21T11:32:26.879016Z",
     "iopub.status.idle": "2020-12-21T11:32:26.882386Z",
     "shell.execute_reply": "2020-12-21T11:32:26.881737Z"
    },
    "papermill": {
     "duration": 0.03284,
     "end_time": "2020-12-21T11:32:26.882501",
     "exception": false,
     "start_time": "2020-12-21T11:32:26.849661",
     "status": "completed"
    },
    "tags": []
   },
   "outputs": [],
   "source": [
    "from sklearn.neighbors import KNeighborsClassifier\n"
   ]
  },
  {
   "cell_type": "code",
   "execution_count": null,
   "metadata": {
    "papermill": {
     "duration": 0.024539,
     "end_time": "2020-12-21T11:32:26.933350",
     "exception": false,
     "start_time": "2020-12-21T11:32:26.908811",
     "status": "completed"
    },
    "tags": []
   },
   "outputs": [],
   "source": []
  },
  {
   "cell_type": "code",
   "execution_count": 19,
   "metadata": {
    "execution": {
     "iopub.execute_input": "2020-12-21T11:32:26.994548Z",
     "iopub.status.busy": "2020-12-21T11:32:26.993623Z",
     "iopub.status.idle": "2020-12-21T11:32:27.332969Z",
     "shell.execute_reply": "2020-12-21T11:32:27.332259Z"
    },
    "papermill": {
     "duration": 0.373977,
     "end_time": "2020-12-21T11:32:27.333086",
     "exception": false,
     "start_time": "2020-12-21T11:32:26.959109",
     "status": "completed"
    },
    "tags": []
   },
   "outputs": [
    {
     "data": {
      "text/plain": [
       "[<matplotlib.lines.Line2D at 0x7fc3d5e02750>]"
      ]
     },
     "execution_count": 19,
     "metadata": {},
     "output_type": "execute_result"
    },
    {
     "data": {
      "image/png": "[encoded data removed]",
      "text/plain": [
       "<Figure size 432x288 with 1 Axes>"
      ]
     },
     "metadata": {
      "needs_background": "light"
     },
     "output_type": "display_data"
    }
   ],
   "source": [
    "score_list = []\n",
    "for each in range(1,15):\n",
    "    knn2 = KNeighborsClassifier(n_neighbors = each, weights='distance',p=1)\n",
    "    knn2.fit(x_trains,y_train)\n",
    "    score_list.append(knn2.score(x_tests,y_test))\n",
    "    \n",
    "plt.plot(range(1,15),score_list)"
   ]
  },
  {
   "cell_type": "code",
   "execution_count": 20,
   "metadata": {
    "execution": {
     "iopub.execute_input": "2020-12-21T11:32:27.391753Z",
     "iopub.status.busy": "2020-12-21T11:32:27.390953Z",
     "iopub.status.idle": "2020-12-21T11:32:27.394026Z",
     "shell.execute_reply": "2020-12-21T11:32:27.393497Z"
    },
    "papermill": {
     "duration": 0.034852,
     "end_time": "2020-12-21T11:32:27.394151",
     "exception": false,
     "start_time": "2020-12-21T11:32:27.359299",
     "status": "completed"
    },
    "tags": []
   },
   "outputs": [],
   "source": [
    "knn3 = KNeighborsClassifier(n_neighbors = 4, weights='distance',p=1)"
   ]
  },
  {
   "cell_type": "code",
   "execution_count": 21,
   "metadata": {
    "execution": {
     "iopub.execute_input": "2020-12-21T11:32:27.456210Z",
     "iopub.status.busy": "2020-12-21T11:32:27.453298Z",
     "iopub.status.idle": "2020-12-21T11:32:27.460486Z",
     "shell.execute_reply": "2020-12-21T11:32:27.459904Z"
    },
    "papermill": {
     "duration": 0.040207,
     "end_time": "2020-12-21T11:32:27.460598",
     "exception": false,
     "start_time": "2020-12-21T11:32:27.420391",
     "status": "completed"
    },
    "tags": []
   },
   "outputs": [
    {
     "data": {
      "text/plain": [
       "KNeighborsClassifier(n_neighbors=4, p=1, weights='distance')"
      ]
     },
     "execution_count": 21,
     "metadata": {},
     "output_type": "execute_result"
    }
   ],
   "source": [
    "knn3.fit(x_trains,y_train)"
   ]
  },
  {
   "cell_type": "code",
   "execution_count": 22,
   "metadata": {
    "execution": {
     "iopub.execute_input": "2020-12-21T11:32:27.521724Z",
     "iopub.status.busy": "2020-12-21T11:32:27.520975Z",
     "iopub.status.idle": "2020-12-21T11:32:27.534246Z",
     "shell.execute_reply": "2020-12-21T11:32:27.533646Z"
    },
    "papermill": {
     "duration": 0.046779,
     "end_time": "2020-12-21T11:32:27.534378",
     "exception": false,
     "start_time": "2020-12-21T11:32:27.487599",
     "status": "completed"
    },
    "tags": []
   },
   "outputs": [
    {
     "data": {
      "text/plain": [
       "0.8743718592964824"
      ]
     },
     "execution_count": 22,
     "metadata": {},
     "output_type": "execute_result"
    }
   ],
   "source": [
    "knn3.score(x_tests,y_test)"
   ]
  },
  {
   "cell_type": "code",
   "execution_count": 23,
   "metadata": {
    "execution": {
     "iopub.execute_input": "2020-12-21T11:32:27.606053Z",
     "iopub.status.busy": "2020-12-21T11:32:27.604958Z",
     "iopub.status.idle": "2020-12-21T11:32:27.625859Z",
     "shell.execute_reply": "2020-12-21T11:32:27.625250Z"
    },
    "papermill": {
     "duration": 0.058248,
     "end_time": "2020-12-21T11:32:27.625984",
     "exception": false,
     "start_time": "2020-12-21T11:32:27.567736",
     "status": "completed"
    },
    "tags": []
   },
   "outputs": [],
   "source": [
    "y4=knn3.predict(oxtest)"
   ]
  },
  {
   "cell_type": "code",
   "execution_count": 24,
   "metadata": {
    "execution": {
     "iopub.execute_input": "2020-12-21T11:32:27.689486Z",
     "iopub.status.busy": "2020-12-21T11:32:27.688528Z",
     "iopub.status.idle": "2020-12-21T11:32:27.692609Z",
     "shell.execute_reply": "2020-12-21T11:32:27.691933Z"
    },
    "papermill": {
     "duration": 0.038473,
     "end_time": "2020-12-21T11:32:27.692756",
     "exception": false,
     "start_time": "2020-12-21T11:32:27.654283",
     "status": "completed"
    },
    "tags": []
   },
   "outputs": [],
   "source": [
    "from sklearn.utils.extmath import weighted_mode"
   ]
  },
  {
   "cell_type": "code",
   "execution_count": 25,
   "metadata": {
    "execution": {
     "iopub.execute_input": "2020-12-21T11:32:27.758279Z",
     "iopub.status.busy": "2020-12-21T11:32:27.757143Z",
     "iopub.status.idle": "2020-12-21T11:32:27.762795Z",
     "shell.execute_reply": "2020-12-21T11:32:27.762131Z"
    },
    "papermill": {
     "duration": 0.041212,
     "end_time": "2020-12-21T11:32:27.762918",
     "exception": false,
     "start_time": "2020-12-21T11:32:27.721706",
     "status": "completed"
    },
    "tags": []
   },
   "outputs": [],
   "source": [
    "w1=[1.0]*426\n",
    "w2=[1.1]*426\n",
    "w3=[1.2]*426\n",
    "w4=[1.05]*426\n",
    "x=[y1,y2,y3,y4]\n",
    "weights = [w1,w2,w3,w4]\n",
    "yo=weighted_mode(x, weights)\n",
    "yo=yo[0][0].astype('int')"
   ]
  },
  {
   "cell_type": "code",
   "execution_count": 26,
   "metadata": {
    "execution": {
     "iopub.execute_input": "2020-12-21T11:32:27.827197Z",
     "iopub.status.busy": "2020-12-21T11:32:27.826013Z",
     "iopub.status.idle": "2020-12-21T11:32:27.831583Z",
     "shell.execute_reply": "2020-12-21T11:32:27.830958Z"
    },
    "papermill": {
     "duration": 0.04073,
     "end_time": "2020-12-21T11:32:27.831717",
     "exception": false,
     "start_time": "2020-12-21T11:32:27.790987",
     "status": "completed"
    },
    "tags": []
   },
   "outputs": [
    {
     "data": {
      "text/plain": [
       "array([ 6,  2,  1,  1,  1,  2,  1,  5,  1,  0,  1,  6,  0,  1,  2,  0,  1,\n",
       "        1,  1,  1,  5,  2,  1,  1,  0,  0,  6,  0,  1,  0, 13,  1,  1,  6,\n",
       "        1,  0,  6,  0,  0,  1,  1,  1,  1,  1,  0,  1,  1,  0,  6,  1,  1,\n",
       "        1,  1,  1,  1,  1,  6,  2,  0,  0,  1,  1,  1,  6,  1,  1,  2,  2,\n",
       "        1,  2,  1,  2,  1,  1,  6,  1,  1,  1,  1,  1,  5,  1,  0,  1,  6,\n",
       "        0,  1,  1,  1,  1,  1,  0,  2,  1,  1,  1,  0,  1,  2,  0,  1,  0,\n",
       "        0,  1,  1,  1,  1,  0,  0,  2,  1,  0,  0,  0,  0,  6,  0,  1,  2,\n",
       "        1,  0,  1,  1,  1,  6,  1,  1,  1,  2,  1,  1,  1,  1,  0,  0,  2,\n",
       "        2,  2,  1,  0,  0,  1,  0,  2,  1,  1,  6,  2,  2,  0,  1,  1,  6,\n",
       "        1,  1,  1,  1,  0,  1,  1,  0,  1,  0,  0,  2,  1,  0,  0,  0,  1,\n",
       "        0,  0,  1,  1,  1,  1,  1,  1,  0,  0,  2,  5,  1,  1,  2,  1,  1,\n",
       "        2,  1,  1,  5,  0,  2,  6,  1,  1,  0,  2,  1,  1,  1,  0,  1,  6,\n",
       "        1,  1,  1,  0,  1, 14,  0,  0,  0,  0,  2,  1,  1,  0,  1,  1,  1,\n",
       "        1,  0,  1,  1,  6,  1,  1,  0,  1,  2,  1,  1,  1,  1,  0,  1,  1,\n",
       "        0,  0,  0,  1,  1,  2,  6,  5,  1,  6,  0,  1,  0,  2,  1,  1,  1,\n",
       "       15,  0,  0,  0,  1,  6,  1,  1,  0,  0,  0,  0,  0,  0,  0,  0,  0,\n",
       "        1,  2,  5,  6,  0,  0,  3,  1,  1,  1,  1,  5,  5,  1,  2,  1,  0,\n",
       "        1,  0,  1,  1,  6,  0,  5,  0,  1, 14,  2,  1,  1,  1,  1,  2,  1,\n",
       "        1,  1,  6,  1,  2,  1,  2,  0,  1,  1,  5,  1,  2,  1,  1,  1,  0,\n",
       "        0,  1,  0,  1,  0,  1,  1,  0,  0,  1,  1,  1,  1,  1,  1,  1,  1,\n",
       "        0,  1,  1,  1,  0,  2,  0,  0,  1,  1,  1,  1,  2,  1,  1,  1,  0,\n",
       "        6,  2,  6,  2,  1,  2,  0,  6,  0,  1,  0,  1,  0,  1,  1,  1,  1,\n",
       "        0,  1,  1,  1,  0,  1,  5,  1,  2,  1,  1,  0,  2,  1,  1,  1,  1,\n",
       "        0,  0,  2,  1,  1,  5,  1,  1,  2,  1,  1,  6,  2,  2,  0,  1,  1,\n",
       "        1,  1,  1,  1,  2,  1,  1,  1,  0,  2,  0,  1,  0,  1,  1,  1,  1,\n",
       "        0])"
      ]
     },
     "execution_count": 26,
     "metadata": {},
     "output_type": "execute_result"
    }
   ],
   "source": [
    "yo"
   ]
  },
  {
   "cell_type": "code",
   "execution_count": 27,
   "metadata": {
    "execution": {
     "iopub.execute_input": "2020-12-21T11:32:27.897237Z",
     "iopub.status.busy": "2020-12-21T11:32:27.896529Z",
     "iopub.status.idle": "2020-12-21T11:32:28.293054Z",
     "shell.execute_reply": "2020-12-21T11:32:28.293628Z"
    },
    "papermill": {
     "duration": 0.432837,
     "end_time": "2020-12-21T11:32:28.293815",
     "exception": false,
     "start_time": "2020-12-21T11:32:27.860978",
     "status": "completed"
    },
    "tags": []
   },
   "outputs": [
    {
     "name": "stdout",
     "output_type": "stream",
     "text": [
      "Saved file: mergedall.csv\n"
     ]
    }
   ],
   "source": [
    "\n",
    "Index=range(1,427)\n",
    "dme={\"Id\":Index,\"Category\":yo}\n",
    "ansme=pd.DataFrame(data=dme)\n",
    "filename = 'mergedall.csv'\n",
    "\n",
    "ansme.to_csv(filename,index=False)\n",
    "\n",
    "print('Saved file: ' + filename)"
   ]
  },
  {
   "cell_type": "code",
   "execution_count": null,
   "metadata": {
    "papermill": {
     "duration": 0.028223,
     "end_time": "2020-12-21T11:32:28.351264",
     "exception": false,
     "start_time": "2020-12-21T11:32:28.323041",
     "status": "completed"
    },
    "tags": []
   },
   "outputs": [],
   "source": []
  }
 ],
 "metadata": {
  "kernelspec": {
   "display_name": "Python 3",
   "language": "python",
   "name": "python3"
  },
  "language_info": {
   "codemirror_mode": {
    "name": "ipython",
    "version": 3
   },
   "file_extension": ".py",
   "mimetype": "text/x-python",
   "name": "python",
   "nbconvert_exporter": "python",
   "pygments_lexer": "ipython3",
   "version": "3.7.6"
  },
  "papermill": {
   "duration": 10.658393,
   "end_time": "2020-12-21T11:32:28.487749",
   "environment_variables": {},
   "exception": null,
   "input_path": "__notebook__.ipynb",
   "output_path": "__notebook__.ipynb",
   "parameters": {},
   "start_time": "2020-12-21T11:32:17.829356",
   "version": "2.1.0"
  }
 },
 "nbformat": 4,
 "nbformat_minor": 4
}
